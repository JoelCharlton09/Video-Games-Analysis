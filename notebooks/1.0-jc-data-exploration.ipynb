{
 "cells": [
  {
   "attachments": {},
   "cell_type": "markdown",
   "metadata": {},
   "source": [
    "## Data Exploration\n",
    "\n",
    "In this notebook we explore the dataset being used in this project. All data preparation tasks required for the analysis are completed, such as cleaning and updating the dataset with the correct values. This will ensure the data is in the correct format and is ready to be used in the analysis. We begin with some imports and checking where there are any missing values within the dataset."
   ]
  },
  {
   "cell_type": "code",
   "execution_count": 28,
   "metadata": {},
   "outputs": [],
   "source": [
    "# Imports\n",
    "import numpy as np \n",
    "import pandas as pd\n",
    "import matplotlib.pyplot as plt"
   ]
  },
  {
   "cell_type": "code",
   "execution_count": 30,
   "metadata": {},
   "outputs": [
    {
     "data": {
      "text/plain": [
       "Rank              0\n",
       "Name              0\n",
       "Platform          0\n",
       "Year            271\n",
       "Genre             0\n",
       "Publisher        58\n",
       "NA_Sales          0\n",
       "EU_Sales          0\n",
       "JP_Sales          0\n",
       "Other_Sales       0\n",
       "Global_Sales      0\n",
       "dtype: int64"
      ]
     },
     "execution_count": 30,
     "metadata": {},
     "output_type": "execute_result"
    }
   ],
   "source": [
    "# Read in the data and count the number of missing values per feature.\n",
    "raw = pd.read_csv(\"../../Video Games Analysis/data/raw/vgsales.csv\")\n",
    "raw.isnull().sum()"
   ]
  },
  {
   "attachments": {},
   "cell_type": "markdown",
   "metadata": {},
   "source": [
    "It can be seen that there is missing data for both the Year and Publisher features. Another thing to note is that the dataset hasn't been updated since 2016 so we need to check for any incorrect entries in the dataset. Any entries deemed incorrect will be updated to reflect the correct release Year. \n",
    "\n",
    "In the next step, all incorrect entires for the Year feature are changed to the correct value and any missing values in the data are imputed in a manner which is deemed to be the most efficient way."
   ]
  },
  {
   "cell_type": "code",
   "execution_count": 23,
   "metadata": {},
   "outputs": [
    {
     "data": {
      "text/html": [
       "<div>\n",
       "<style scoped>\n",
       "    .dataframe tbody tr th:only-of-type {\n",
       "        vertical-align: middle;\n",
       "    }\n",
       "\n",
       "    .dataframe tbody tr th {\n",
       "        vertical-align: top;\n",
       "    }\n",
       "\n",
       "    .dataframe thead th {\n",
       "        text-align: right;\n",
       "    }\n",
       "</style>\n",
       "<table border=\"1\" class=\"dataframe\">\n",
       "  <thead>\n",
       "    <tr style=\"text-align: right;\">\n",
       "      <th></th>\n",
       "      <th>Rank</th>\n",
       "      <th>Name</th>\n",
       "      <th>Platform</th>\n",
       "      <th>Year</th>\n",
       "      <th>Genre</th>\n",
       "      <th>Publisher</th>\n",
       "      <th>NA_Sales</th>\n",
       "      <th>EU_Sales</th>\n",
       "      <th>JP_Sales</th>\n",
       "      <th>Other_Sales</th>\n",
       "      <th>Global_Sales</th>\n",
       "    </tr>\n",
       "  </thead>\n",
       "  <tbody>\n",
       "    <tr>\n",
       "      <th>5957</th>\n",
       "      <td>5959</td>\n",
       "      <td>Imagine: Makeup Artist</td>\n",
       "      <td>DS</td>\n",
       "      <td>2020.0</td>\n",
       "      <td>Simulation</td>\n",
       "      <td>Ubisoft</td>\n",
       "      <td>0.27</td>\n",
       "      <td>0.0</td>\n",
       "      <td>0.00</td>\n",
       "      <td>0.02</td>\n",
       "      <td>0.29</td>\n",
       "    </tr>\n",
       "    <tr>\n",
       "      <th>14390</th>\n",
       "      <td>14393</td>\n",
       "      <td>Phantasy Star Online 2 Episode 4: Deluxe Package</td>\n",
       "      <td>PS4</td>\n",
       "      <td>2017.0</td>\n",
       "      <td>Role-Playing</td>\n",
       "      <td>Sega</td>\n",
       "      <td>0.00</td>\n",
       "      <td>0.0</td>\n",
       "      <td>0.03</td>\n",
       "      <td>0.00</td>\n",
       "      <td>0.03</td>\n",
       "    </tr>\n",
       "    <tr>\n",
       "      <th>16241</th>\n",
       "      <td>16244</td>\n",
       "      <td>Phantasy Star Online 2 Episode 4: Deluxe Package</td>\n",
       "      <td>PSV</td>\n",
       "      <td>2017.0</td>\n",
       "      <td>Role-Playing</td>\n",
       "      <td>Sega</td>\n",
       "      <td>0.00</td>\n",
       "      <td>0.0</td>\n",
       "      <td>0.01</td>\n",
       "      <td>0.00</td>\n",
       "      <td>0.01</td>\n",
       "    </tr>\n",
       "    <tr>\n",
       "      <th>16438</th>\n",
       "      <td>16441</td>\n",
       "      <td>Brothers Conflict: Precious Baby</td>\n",
       "      <td>PSV</td>\n",
       "      <td>2017.0</td>\n",
       "      <td>Action</td>\n",
       "      <td>Idea Factory</td>\n",
       "      <td>0.00</td>\n",
       "      <td>0.0</td>\n",
       "      <td>0.01</td>\n",
       "      <td>0.00</td>\n",
       "      <td>0.01</td>\n",
       "    </tr>\n",
       "  </tbody>\n",
       "</table>\n",
       "</div>"
      ],
      "text/plain": [
       "        Rank                                              Name Platform  \\\n",
       "5957    5959                            Imagine: Makeup Artist       DS   \n",
       "14390  14393  Phantasy Star Online 2 Episode 4: Deluxe Package      PS4   \n",
       "16241  16244  Phantasy Star Online 2 Episode 4: Deluxe Package      PSV   \n",
       "16438  16441                  Brothers Conflict: Precious Baby      PSV   \n",
       "\n",
       "         Year         Genre     Publisher  NA_Sales  EU_Sales  JP_Sales  \\\n",
       "5957   2020.0    Simulation       Ubisoft      0.27       0.0      0.00   \n",
       "14390  2017.0  Role-Playing          Sega      0.00       0.0      0.03   \n",
       "16241  2017.0  Role-Playing          Sega      0.00       0.0      0.01   \n",
       "16438  2017.0        Action  Idea Factory      0.00       0.0      0.01   \n",
       "\n",
       "       Other_Sales  Global_Sales  \n",
       "5957          0.02          0.29  \n",
       "14390         0.00          0.03  \n",
       "16241         0.00          0.01  \n",
       "16438         0.00          0.01  "
      ]
     },
     "execution_count": 23,
     "metadata": {},
     "output_type": "execute_result"
    }
   ],
   "source": [
    "# Idenitify any incorrect entries for the Year\n",
    "raw[raw[\"Year\"] >= 2017]"
   ]
  },
  {
   "attachments": {},
   "cell_type": "markdown",
   "metadata": {},
   "source": [
    "These entries can't be correct due to when the data was last updated. After researching, it was found that these games were released on the specified consoles in the years 2009, 2016, 2013 and 2016 respectively. Below these values are replaced."
   ]
  },
  {
   "cell_type": "code",
   "execution_count": 24,
   "metadata": {},
   "outputs": [],
   "source": [
    "# Updating the Year feature\n",
    "Year = list(raw[\"Year\"])\n",
    "Year[5957] = 2009\n",
    "Year[14390] = 2016\n",
    "Year[16241] = 2013\n",
    "Year[16438] = 2016\n",
    "raw[\"Year\"] = Year"
   ]
  },
  {
   "cell_type": "code",
   "execution_count": 27,
   "metadata": {},
   "outputs": [
    {
     "data": {
      "text/plain": [
       "0"
      ]
     },
     "execution_count": 27,
     "metadata": {},
     "output_type": "execute_result"
    }
   ],
   "source": [
    "# Imputing the missing Year value with the median year\n",
    "year_median = raw[\"Year\"].median(skipna=True)\n",
    "raw[\"Year\"] = raw[\"Year\"].fillna(year_median)\n",
    "\n",
    "raw[\"Year\"].isnull().sum()"
   ]
  }
 ],
 "metadata": {
  "kernelspec": {
   "display_name": "Python 3",
   "language": "python",
   "name": "python3"
  },
  "language_info": {
   "codemirror_mode": {
    "name": "ipython",
    "version": 3
   },
   "file_extension": ".py",
   "mimetype": "text/x-python",
   "name": "python",
   "nbconvert_exporter": "python",
   "pygments_lexer": "ipython3",
   "version": "3.9.7"
  },
  "orig_nbformat": 4
 },
 "nbformat": 4,
 "nbformat_minor": 2
}
